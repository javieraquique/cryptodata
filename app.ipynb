{
 "cells": [
  {
   "cell_type": "markdown",
   "metadata": {},
   "source": [
    "# Importando librerías"
   ]
  },
  {
   "cell_type": "code",
   "execution_count": null,
   "metadata": {},
   "outputs": [],
   "source": [
    "import krakenex\n",
    "import pandas as pd\n",
    "import plotly.graph_objects as go\n"
   ]
  },
  {
   "cell_type": "markdown",
   "metadata": {},
   "source": [
    "# Definiendo API de Kraken"
   ]
  },
  {
   "cell_type": "code",
   "execution_count": null,
   "metadata": {},
   "outputs": [],
   "source": [
    "kraken = krakenex.API()\n"
   ]
  },
  {
   "cell_type": "markdown",
   "metadata": {},
   "source": [
    "# Definiendo criptomonédas a analizar y tipos de cambio"
   ]
  },
  {
   "cell_type": "code",
   "execution_count": null,
   "metadata": {},
   "outputs": [],
   "source": [
    "cryptos = ['BTC', 'ETH']\n",
    "currencies = ['USD', 'EUR']\n"
   ]
  },
  {
   "cell_type": "markdown",
   "metadata": {},
   "source": [
    "# Definiendo funciones"
   ]
  },
  {
   "cell_type": "markdown",
   "metadata": {},
   "source": [
    "## Función de limpieza de datos"
   ]
  },
  {
   "cell_type": "code",
   "execution_count": null,
   "metadata": {},
   "outputs": [],
   "source": [
    "def cleaningData(df):\n",
    "\n",
    "    time_vars = ['time']\n",
    "    float_vars = ['open', 'high', 'low', 'close', 'vwap', 'volume']\n",
    "\n",
    "    for var in time_vars:\n",
    "        df[var] = pd.to_datetime(df[var], unit='s')\n",
    "\n",
    "    for var in float_vars:\n",
    "        df[var] = pd.to_numeric(df[var], errors='coerce')\n",
    "\n",
    "    return df\n"
   ]
  },
  {
   "cell_type": "markdown",
   "metadata": {},
   "source": [
    "## Función para extraer los datos"
   ]
  },
  {
   "cell_type": "code",
   "execution_count": null,
   "metadata": {},
   "outputs": [],
   "source": [
    "def getData():\n",
    "    ohlc = []\n",
    "    for crypto in cryptos:\n",
    "        for currency in currencies:\n",
    "            fresh_data = kraken.query_public(\n",
    "                'OHLC',\n",
    "                {'pair': crypto + currency}\n",
    "            )\n",
    "            ohlc.append(fresh_data)\n",
    "\n",
    "    return ohlc\n"
   ]
  },
  {
   "cell_type": "markdown",
   "metadata": {},
   "source": [
    "## Función para constriuir el Data Frame"
   ]
  },
  {
   "cell_type": "code",
   "execution_count": null,
   "metadata": {},
   "outputs": [],
   "source": [
    "def buildDf(data):\n",
    "    df = pd.DataFrame()\n",
    "    for pair in data:\n",
    "        pair_name = list(pair['result'].keys())[0]\n",
    "        pair_data = pair['result'][pair_name]\n",
    "        pair_df = pd.DataFrame.from_records(\n",
    "            pair_data,\n",
    "            columns=[\n",
    "                'time',\n",
    "                'open',\n",
    "                'high',\n",
    "                'low',\n",
    "                'close',\n",
    "                'vwap',\n",
    "                'volume',\n",
    "                'count'\n",
    "            ])\n",
    "        pair_df['pair_name'] = pair_name\n",
    "        df = pd.concat([df, pair_df], axis=0)\n",
    "\n",
    "    return df\n"
   ]
  },
  {
   "cell_type": "markdown",
   "metadata": {},
   "source": [
    "## Función generar media móvil"
   ]
  },
  {
   "cell_type": "code",
   "execution_count": null,
   "metadata": {},
   "outputs": [],
   "source": [
    "def calculateMovingAverage(df):\n",
    "\n",
    "    df['SMA25'] = df['close'].rolling(25).mean()\n",
    "\n",
    "    return df\n"
   ]
  },
  {
   "cell_type": "markdown",
   "metadata": {},
   "source": [
    "## Función generar RSI"
   ]
  },
  {
   "cell_type": "code",
   "execution_count": null,
   "metadata": {},
   "outputs": [],
   "source": [
    "\n",
    "def calculateRsi(df, periods=14, ema=True):\n",
    "    \"\"\"\n",
    "    Returns a pd.Series with the relative strength index.\n",
    "    \"\"\"\n",
    "    close_delta = df['close'].diff()\n",
    "\n",
    "    # Make two series: one for lower closes and one for higher closes\n",
    "    up = close_delta.clip(lower=0)\n",
    "    down = -1 * close_delta.clip(upper=0)\n",
    "\n",
    "    if ema == True:\n",
    "        # Use exponential moving average\n",
    "        ma_up = up.ewm(com=periods - 1, adjust=True,\n",
    "                       min_periods=periods).mean()\n",
    "        ma_down = down.ewm(com=periods - 1, adjust=True,\n",
    "                           min_periods=periods).mean()\n",
    "    else:\n",
    "        # Use simple moving average\n",
    "        ma_up = up.rolling(window=periods, adjust=False).mean()\n",
    "        ma_down = down.rolling(window=periods, adjust=False).mean()\n",
    "\n",
    "    rsi = ma_up / ma_down\n",
    "    rsi = 100 - (100/(1 + rsi))\n",
    "\n",
    "    df['RSI'] = rsi\n",
    "    return df\n"
   ]
  },
  {
   "cell_type": "markdown",
   "metadata": {},
   "source": [
    "## Función generar indicadores"
   ]
  },
  {
   "cell_type": "code",
   "execution_count": null,
   "metadata": {},
   "outputs": [],
   "source": [
    "def calculateIndicators(df):\n",
    "\n",
    "    # Identificando todos los pares disponibles en la extracción\n",
    "    pairs = df['pair_name'].unique()\n",
    "\n",
    "    # Calculado los indicadores para cada par y almacenando en un data frame independiente\n",
    "    list_of_dfs = []\n",
    "    for pair in pairs:\n",
    "        df_pair = df[df['pair_name'] == pair]\n",
    "\n",
    "        df_pair = calculateMovingAverage(df_pair)\n",
    "        df_pair = calculateRsi(df_pair)\n",
    "        df_pair['SMA25'] = df_pair['close'].rolling(25).mean()\n",
    "\n",
    "        list_of_dfs.append(df_pair)\n",
    "\n",
    "    # Uniendo todos los data frames en un solo data frame resultante\n",
    "    new_df = pd.DataFrame()\n",
    "    for x in list_of_dfs:\n",
    "        new_df = new_df.append(x)\n",
    "    return new_df\n"
   ]
  },
  {
   "cell_type": "markdown",
   "metadata": {},
   "source": [
    "# Extrayendo datos"
   ]
  },
  {
   "cell_type": "code",
   "execution_count": null,
   "metadata": {},
   "outputs": [],
   "source": [
    "data = getData()\n"
   ]
  },
  {
   "cell_type": "markdown",
   "metadata": {},
   "source": [
    "# Construyendo Data Frame"
   ]
  },
  {
   "cell_type": "code",
   "execution_count": null,
   "metadata": {},
   "outputs": [],
   "source": [
    "df = buildDf(data)\n",
    "df = df.reset_index(drop=True)\n"
   ]
  },
  {
   "cell_type": "markdown",
   "metadata": {},
   "source": [
    "# Limpiando datos"
   ]
  },
  {
   "cell_type": "code",
   "execution_count": null,
   "metadata": {},
   "outputs": [],
   "source": [
    "df = cleaningData(df)\n"
   ]
  },
  {
   "cell_type": "markdown",
   "metadata": {},
   "source": [
    "# Calculado indicadores"
   ]
  },
  {
   "cell_type": "code",
   "execution_count": null,
   "metadata": {},
   "outputs": [],
   "source": [
    "df = calculateIndicators(df)\n"
   ]
  },
  {
   "cell_type": "code",
   "execution_count": null,
   "metadata": {},
   "outputs": [],
   "source": [
    "df\n"
   ]
  },
  {
   "cell_type": "markdown",
   "metadata": {},
   "source": [
    "# Gráficos"
   ]
  },
  {
   "cell_type": "code",
   "execution_count": null,
   "metadata": {},
   "outputs": [],
   "source": [
    "df_test = df[df['pair_name'] == 'XXBTZUSD']\n"
   ]
  },
  {
   "cell_type": "markdown",
   "metadata": {},
   "source": [
    "## Gráfico precio"
   ]
  },
  {
   "cell_type": "code",
   "execution_count": null,
   "metadata": {},
   "outputs": [],
   "source": [
    "hovertext = []\n",
    "for i in range(len(df_test['open'])):\n",
    "    hovertext.append('<br>Precio: '+str(df_test['close'][i]))\n",
    "\n",
    "fig = go.Figure(data=go.Ohlc(x=df_test['time'],\n",
    "                open=df_test['open'],\n",
    "                high=df_test['high'],\n",
    "                low=df_test['low'],\n",
    "                close=df_test['close'],\n",
    "                text=hovertext,\n",
    "                hoverinfo='text'))\n",
    "\n",
    "fig.update_layout(\n",
    "    title='Precio histórico. Últimos 720 periodos',\n",
    "    yaxis_title='Precio del par XXBTZUSD'\n",
    ")\n",
    "\n",
    "fig.show()\n"
   ]
  },
  {
   "cell_type": "markdown",
   "metadata": {},
   "source": [
    "## Gráfico média móvil"
   ]
  },
  {
   "cell_type": "code",
   "execution_count": null,
   "metadata": {},
   "outputs": [],
   "source": [
    "hovertext = []\n",
    "for i in range(len(df_test['open'])):\n",
    "    hovertext.append('<br>Precio: '+str(df_test['close'][i]))\n",
    "\n",
    "fig = go.Figure(data=[go.Ohlc(x=df_test['time'],\n",
    "                open=df_test['open'],\n",
    "                high=df_test['high'],\n",
    "                low=df_test['low'],\n",
    "                close=df_test['close'],\n",
    "                text=hovertext,\n",
    "                hoverinfo='text',\n",
    "                name='Precio'),\n",
    "    go.Scatter(\n",
    "    x=df_test['time'],\n",
    "    y=df_test['SMA25'],\n",
    "    line=dict(color='blue',\n",
    "              width=1),\n",
    "    name='Media móvil 25 períodos')\n",
    "])\n",
    "\n",
    "fig.update_layout(\n",
    "    title='Media móvil. Últimos 720 periodos',\n",
    "    yaxis_title='Precio del par XXBTZUSD'\n",
    ")\n",
    "\n",
    "fig.show()\n"
   ]
  },
  {
   "cell_type": "markdown",
   "metadata": {},
   "source": [
    "## Gráfico RSI"
   ]
  },
  {
   "cell_type": "code",
   "execution_count": null,
   "metadata": {},
   "outputs": [],
   "source": [
    "hovertext = []\n",
    "for i in range(len(df_test['open'])):\n",
    "    hovertext.append('<br>Precio: '+str(df_test['close'][i]))\n",
    "layout = {\n",
    "    \"yaxis\": {\"domain\": [0, 0.33]},\n",
    "    \"yaxis2\": {\"domain\": [0.33, 1]}\n",
    "}\n",
    "fig = go.Figure(data=[go.Ohlc(\n",
    "    x=df_test['time'],\n",
    "    open=df_test['open'],\n",
    "    high=df_test['high'],\n",
    "    low=df_test['low'],\n",
    "    close=df_test['close'],\n",
    "    text=hovertext,\n",
    "    hoverinfo='text',\n",
    "    name='Precio',\n",
    "    yaxis='y2'),\n",
    "\n",
    "    go.Scatter(\n",
    "    x=df_test['time'],\n",
    "    y=df_test['RSI'],\n",
    "    line=dict(color='purple',\n",
    "              width=1),\n",
    "    name='Índice de fortaleza realativa',\n",
    "    yaxis=\"y\"),\n",
    "\n",
    "],\n",
    "    layout=layout)\n",
    "\n",
    "fig.update_layout(\n",
    "    title='Índice de fortaleza relativa (RSI). Últimos 720 periodos',\n",
    "    yaxis_title='Precio del par XXBTZUSD',\n",
    "    showlegend=False,\n",
    "    xaxis_rangeslider_visible=False\n",
    "\n",
    ")\n",
    "\n",
    "fig.show()\n"
   ]
  },
  {
   "cell_type": "code",
   "execution_count": null,
   "metadata": {},
   "outputs": [],
   "source": []
  }
 ],
 "metadata": {
  "kernelspec": {
   "display_name": "Python 3.9.12 ('.env': venv)",
   "language": "python",
   "name": "python3"
  },
  "language_info": {
   "codemirror_mode": {
    "name": "ipython",
    "version": 3
   },
   "file_extension": ".py",
   "mimetype": "text/x-python",
   "name": "python",
   "nbconvert_exporter": "python",
   "pygments_lexer": "ipython3",
   "version": "3.9.12"
  },
  "orig_nbformat": 4,
  "vscode": {
   "interpreter": {
    "hash": "ffb7465281058a9843b9a6da2cfeb80ce21f32f8179a06bc873f6b457e4dc3c3"
   }
  }
 },
 "nbformat": 4,
 "nbformat_minor": 2
}
