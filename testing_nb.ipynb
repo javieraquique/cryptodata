{
 "cells": [
  {
   "cell_type": "markdown",
   "metadata": {},
   "source": [
    "# Importando librerías"
   ]
  },
  {
   "cell_type": "code",
   "execution_count": 67,
   "metadata": {},
   "outputs": [],
   "source": [
    "import krakenex\n",
    "import pandas as pd\n",
    "import json\n",
    "from datetime import datetime\n",
    "import ipywidgets as widgets\n",
    "import plotly.graph_objects as go"
   ]
  },
  {
   "cell_type": "markdown",
   "metadata": {},
   "source": [
    "# Definiendo API de Kraken"
   ]
  },
  {
   "cell_type": "code",
   "execution_count": 68,
   "metadata": {},
   "outputs": [],
   "source": [
    "kraken = krakenex.API()"
   ]
  },
  {
   "cell_type": "markdown",
   "metadata": {},
   "source": [
    "# Definiendo criptomonédas a analizar y tipos de cambio"
   ]
  },
  {
   "cell_type": "code",
   "execution_count": 69,
   "metadata": {},
   "outputs": [],
   "source": [
    "cryptos = ['BTC', 'ETH']\n",
    "currencies = ['USD', 'EUR']"
   ]
  },
  {
   "cell_type": "markdown",
   "metadata": {},
   "source": [
    "# Definiendo funciones"
   ]
  },
  {
   "cell_type": "markdown",
   "metadata": {},
   "source": [
    "## Función de limpieza de datos"
   ]
  },
  {
   "cell_type": "code",
   "execution_count": 70,
   "metadata": {},
   "outputs": [],
   "source": [
    "def cleaningData(df):\n",
    "\n",
    "    time_vars = ['time']\n",
    "    float_vars = ['open', 'high', 'low', 'close', 'vwap', 'volume']\n",
    "\n",
    "    for var in time_vars:\n",
    "        df[var] = pd.to_datetime(df[var], unit='s')\n",
    "\n",
    "    for var in float_vars:\n",
    "        df[var] = pd.to_numeric(df[var], errors='coerce')\n",
    "\n",
    "    return df"
   ]
  },
  {
   "cell_type": "markdown",
   "metadata": {},
   "source": [
    "## Función para extraer los datos"
   ]
  },
  {
   "cell_type": "code",
   "execution_count": 71,
   "metadata": {},
   "outputs": [],
   "source": [
    "def getData():\n",
    "    ohlc = []\n",
    "    for crypto in cryptos:\n",
    "        for currency in currencies:\n",
    "            fresh_data = kraken.query_public(\n",
    "                'OHLC',\n",
    "                {'pair': crypto + currency}\n",
    "            )\n",
    "            ohlc.append(fresh_data)\n",
    "\n",
    "    return ohlc"
   ]
  },
  {
   "cell_type": "markdown",
   "metadata": {},
   "source": [
    "## Función para constriuir el Data Frame"
   ]
  },
  {
   "cell_type": "code",
   "execution_count": 72,
   "metadata": {},
   "outputs": [],
   "source": [
    "def buildDf(data):\n",
    "    df = pd.DataFrame()\n",
    "    for pair in data:\n",
    "        pair_name = list(pair['result'].keys())[0]\n",
    "        pair_data = pair['result'][pair_name]\n",
    "        pair_df = pd.DataFrame.from_records(\n",
    "            pair_data,\n",
    "            columns=[\n",
    "                'time',\n",
    "                'open',\n",
    "                'high',\n",
    "                'low',\n",
    "                'close',\n",
    "                'vwap',\n",
    "                'volume',\n",
    "                'count'\n",
    "            ])\n",
    "        pair_df['pair_name'] = pair_name\n",
    "        df = pd.concat([df, pair_df], axis=0)\n",
    "\n",
    "    return df"
   ]
  },
  {
   "cell_type": "markdown",
   "metadata": {},
   "source": [
    "## Función generar media móvil"
   ]
  },
  {
   "cell_type": "code",
   "execution_count": 73,
   "metadata": {},
   "outputs": [],
   "source": [
    "def calculateMovingAverage(df):\n",
    "    \n",
    "    # Identificando todos los pares disponibles en la extracción\n",
    "    pairs = df['pair_name'].unique()\n",
    "\n",
    "    # Calculado la media móvil de 25 sesiones para cada par y almacenando en un data frame independiente\n",
    "    list_of_dfs = []\n",
    "    for pair in pairs:\n",
    "        df_pair = df[df['pair_name'] == pair]\n",
    "        df_pair['SMA25'] = df_pair['close'].rolling(25).mean()\n",
    "        list_of_dfs.append(df_pair)\n",
    "\n",
    "    # Uniendo todos los data frames en un solo data frame resultante\n",
    "    new_df = pd.DataFrame()\n",
    "    for x in list_of_dfs:\n",
    "        new_df = new_df.append(x)\n",
    "    return new_df\n"
   ]
  },
  {
   "cell_type": "markdown",
   "metadata": {},
   "source": [
    "# Extrayendo datos"
   ]
  },
  {
   "cell_type": "code",
   "execution_count": 74,
   "metadata": {},
   "outputs": [],
   "source": [
    "data = getData()"
   ]
  },
  {
   "cell_type": "markdown",
   "metadata": {},
   "source": [
    "# Construyendo Data Frame"
   ]
  },
  {
   "cell_type": "code",
   "execution_count": 75,
   "metadata": {},
   "outputs": [],
   "source": [
    "df = buildDf(data)\n",
    "df = df.reset_index(drop=True)"
   ]
  },
  {
   "cell_type": "markdown",
   "metadata": {},
   "source": [
    "# Limpiando datos"
   ]
  },
  {
   "cell_type": "code",
   "execution_count": 76,
   "metadata": {},
   "outputs": [],
   "source": [
    "df = cleaningData(df)"
   ]
  },
  {
   "cell_type": "markdown",
   "metadata": {},
   "source": [
    "# Calculado la media móvil"
   ]
  },
  {
   "cell_type": "code",
   "execution_count": 77,
   "metadata": {},
   "outputs": [
    {
     "name": "stderr",
     "output_type": "stream",
     "text": [
      "/var/folders/2y/tls0s71d3llbk2fk7vt0mgc80000gn/T/ipykernel_822/4185520521.py:10: SettingWithCopyWarning:\n",
      "\n",
      "\n",
      "A value is trying to be set on a copy of a slice from a DataFrame.\n",
      "Try using .loc[row_indexer,col_indexer] = value instead\n",
      "\n",
      "See the caveats in the documentation: https://pandas.pydata.org/pandas-docs/stable/user_guide/indexing.html#returning-a-view-versus-a-copy\n",
      "\n",
      "/var/folders/2y/tls0s71d3llbk2fk7vt0mgc80000gn/T/ipykernel_822/4185520521.py:10: SettingWithCopyWarning:\n",
      "\n",
      "\n",
      "A value is trying to be set on a copy of a slice from a DataFrame.\n",
      "Try using .loc[row_indexer,col_indexer] = value instead\n",
      "\n",
      "See the caveats in the documentation: https://pandas.pydata.org/pandas-docs/stable/user_guide/indexing.html#returning-a-view-versus-a-copy\n",
      "\n",
      "/var/folders/2y/tls0s71d3llbk2fk7vt0mgc80000gn/T/ipykernel_822/4185520521.py:10: SettingWithCopyWarning:\n",
      "\n",
      "\n",
      "A value is trying to be set on a copy of a slice from a DataFrame.\n",
      "Try using .loc[row_indexer,col_indexer] = value instead\n",
      "\n",
      "See the caveats in the documentation: https://pandas.pydata.org/pandas-docs/stable/user_guide/indexing.html#returning-a-view-versus-a-copy\n",
      "\n",
      "/var/folders/2y/tls0s71d3llbk2fk7vt0mgc80000gn/T/ipykernel_822/4185520521.py:10: SettingWithCopyWarning:\n",
      "\n",
      "\n",
      "A value is trying to be set on a copy of a slice from a DataFrame.\n",
      "Try using .loc[row_indexer,col_indexer] = value instead\n",
      "\n",
      "See the caveats in the documentation: https://pandas.pydata.org/pandas-docs/stable/user_guide/indexing.html#returning-a-view-versus-a-copy\n",
      "\n",
      "/var/folders/2y/tls0s71d3llbk2fk7vt0mgc80000gn/T/ipykernel_822/4185520521.py:16: FutureWarning:\n",
      "\n",
      "The frame.append method is deprecated and will be removed from pandas in a future version. Use pandas.concat instead.\n",
      "\n",
      "/var/folders/2y/tls0s71d3llbk2fk7vt0mgc80000gn/T/ipykernel_822/4185520521.py:16: FutureWarning:\n",
      "\n",
      "The frame.append method is deprecated and will be removed from pandas in a future version. Use pandas.concat instead.\n",
      "\n",
      "/var/folders/2y/tls0s71d3llbk2fk7vt0mgc80000gn/T/ipykernel_822/4185520521.py:16: FutureWarning:\n",
      "\n",
      "The frame.append method is deprecated and will be removed from pandas in a future version. Use pandas.concat instead.\n",
      "\n",
      "/var/folders/2y/tls0s71d3llbk2fk7vt0mgc80000gn/T/ipykernel_822/4185520521.py:16: FutureWarning:\n",
      "\n",
      "The frame.append method is deprecated and will be removed from pandas in a future version. Use pandas.concat instead.\n",
      "\n"
     ]
    }
   ],
   "source": [
    "df = calculateMovingAverage(df)"
   ]
  },
  {
   "cell_type": "code",
   "execution_count": 78,
   "metadata": {},
   "outputs": [
    {
     "data": {
      "text/html": [
       "<div>\n",
       "<style scoped>\n",
       "    .dataframe tbody tr th:only-of-type {\n",
       "        vertical-align: middle;\n",
       "    }\n",
       "\n",
       "    .dataframe tbody tr th {\n",
       "        vertical-align: top;\n",
       "    }\n",
       "\n",
       "    .dataframe thead th {\n",
       "        text-align: right;\n",
       "    }\n",
       "</style>\n",
       "<table border=\"1\" class=\"dataframe\">\n",
       "  <thead>\n",
       "    <tr style=\"text-align: right;\">\n",
       "      <th></th>\n",
       "      <th>time</th>\n",
       "      <th>open</th>\n",
       "      <th>high</th>\n",
       "      <th>low</th>\n",
       "      <th>close</th>\n",
       "      <th>vwap</th>\n",
       "      <th>volume</th>\n",
       "      <th>count</th>\n",
       "      <th>pair_name</th>\n",
       "      <th>SMA25</th>\n",
       "    </tr>\n",
       "  </thead>\n",
       "  <tbody>\n",
       "    <tr>\n",
       "      <th>0</th>\n",
       "      <td>2022-11-09 00:59:00</td>\n",
       "      <td>18338.00</td>\n",
       "      <td>18340.00</td>\n",
       "      <td>18331.20</td>\n",
       "      <td>18340.00</td>\n",
       "      <td>18338.50</td>\n",
       "      <td>2.701165</td>\n",
       "      <td>29</td>\n",
       "      <td>XXBTZUSD</td>\n",
       "      <td>NaN</td>\n",
       "    </tr>\n",
       "    <tr>\n",
       "      <th>1</th>\n",
       "      <td>2022-11-09 01:00:00</td>\n",
       "      <td>18336.90</td>\n",
       "      <td>18340.00</td>\n",
       "      <td>18325.50</td>\n",
       "      <td>18325.50</td>\n",
       "      <td>18334.80</td>\n",
       "      <td>3.178520</td>\n",
       "      <td>20</td>\n",
       "      <td>XXBTZUSD</td>\n",
       "      <td>NaN</td>\n",
       "    </tr>\n",
       "    <tr>\n",
       "      <th>2</th>\n",
       "      <td>2022-11-09 01:01:00</td>\n",
       "      <td>18325.50</td>\n",
       "      <td>18339.90</td>\n",
       "      <td>18310.00</td>\n",
       "      <td>18335.50</td>\n",
       "      <td>18327.80</td>\n",
       "      <td>3.887147</td>\n",
       "      <td>41</td>\n",
       "      <td>XXBTZUSD</td>\n",
       "      <td>NaN</td>\n",
       "    </tr>\n",
       "    <tr>\n",
       "      <th>3</th>\n",
       "      <td>2022-11-09 01:02:00</td>\n",
       "      <td>18335.30</td>\n",
       "      <td>18335.30</td>\n",
       "      <td>18310.00</td>\n",
       "      <td>18310.00</td>\n",
       "      <td>18317.40</td>\n",
       "      <td>2.041337</td>\n",
       "      <td>16</td>\n",
       "      <td>XXBTZUSD</td>\n",
       "      <td>NaN</td>\n",
       "    </tr>\n",
       "    <tr>\n",
       "      <th>4</th>\n",
       "      <td>2022-11-09 01:03:00</td>\n",
       "      <td>18312.80</td>\n",
       "      <td>18325.80</td>\n",
       "      <td>18300.00</td>\n",
       "      <td>18312.80</td>\n",
       "      <td>18310.10</td>\n",
       "      <td>0.889282</td>\n",
       "      <td>23</td>\n",
       "      <td>XXBTZUSD</td>\n",
       "      <td>NaN</td>\n",
       "    </tr>\n",
       "    <tr>\n",
       "      <th>...</th>\n",
       "      <td>...</td>\n",
       "      <td>...</td>\n",
       "      <td>...</td>\n",
       "      <td>...</td>\n",
       "      <td>...</td>\n",
       "      <td>...</td>\n",
       "      <td>...</td>\n",
       "      <td>...</td>\n",
       "      <td>...</td>\n",
       "      <td>...</td>\n",
       "    </tr>\n",
       "    <tr>\n",
       "      <th>2875</th>\n",
       "      <td>2022-11-09 12:54:00</td>\n",
       "      <td>1221.70</td>\n",
       "      <td>1222.07</td>\n",
       "      <td>1219.43</td>\n",
       "      <td>1219.73</td>\n",
       "      <td>1220.99</td>\n",
       "      <td>21.789107</td>\n",
       "      <td>33</td>\n",
       "      <td>XETHZEUR</td>\n",
       "      <td>1226.5196</td>\n",
       "    </tr>\n",
       "    <tr>\n",
       "      <th>2876</th>\n",
       "      <td>2022-11-09 12:55:00</td>\n",
       "      <td>1220.74</td>\n",
       "      <td>1220.75</td>\n",
       "      <td>1218.36</td>\n",
       "      <td>1219.02</td>\n",
       "      <td>1219.20</td>\n",
       "      <td>35.984311</td>\n",
       "      <td>35</td>\n",
       "      <td>XETHZEUR</td>\n",
       "      <td>1226.4800</td>\n",
       "    </tr>\n",
       "    <tr>\n",
       "      <th>2877</th>\n",
       "      <td>2022-11-09 12:56:00</td>\n",
       "      <td>1218.36</td>\n",
       "      <td>1219.57</td>\n",
       "      <td>1209.71</td>\n",
       "      <td>1209.71</td>\n",
       "      <td>1211.90</td>\n",
       "      <td>312.508706</td>\n",
       "      <td>88</td>\n",
       "      <td>XETHZEUR</td>\n",
       "      <td>1225.9752</td>\n",
       "    </tr>\n",
       "    <tr>\n",
       "      <th>2878</th>\n",
       "      <td>2022-11-09 12:57:00</td>\n",
       "      <td>1210.00</td>\n",
       "      <td>1215.49</td>\n",
       "      <td>1206.03</td>\n",
       "      <td>1214.22</td>\n",
       "      <td>1209.87</td>\n",
       "      <td>122.698311</td>\n",
       "      <td>58</td>\n",
       "      <td>XETHZEUR</td>\n",
       "      <td>1225.7148</td>\n",
       "    </tr>\n",
       "    <tr>\n",
       "      <th>2879</th>\n",
       "      <td>2022-11-09 12:58:00</td>\n",
       "      <td>1214.64</td>\n",
       "      <td>1216.99</td>\n",
       "      <td>1214.50</td>\n",
       "      <td>1216.11</td>\n",
       "      <td>1216.18</td>\n",
       "      <td>10.526768</td>\n",
       "      <td>19</td>\n",
       "      <td>XETHZEUR</td>\n",
       "      <td>1225.4612</td>\n",
       "    </tr>\n",
       "  </tbody>\n",
       "</table>\n",
       "<p>2880 rows × 10 columns</p>\n",
       "</div>"
      ],
      "text/plain": [
       "                    time      open      high       low     close      vwap  \\\n",
       "0    2022-11-09 00:59:00  18338.00  18340.00  18331.20  18340.00  18338.50   \n",
       "1    2022-11-09 01:00:00  18336.90  18340.00  18325.50  18325.50  18334.80   \n",
       "2    2022-11-09 01:01:00  18325.50  18339.90  18310.00  18335.50  18327.80   \n",
       "3    2022-11-09 01:02:00  18335.30  18335.30  18310.00  18310.00  18317.40   \n",
       "4    2022-11-09 01:03:00  18312.80  18325.80  18300.00  18312.80  18310.10   \n",
       "...                  ...       ...       ...       ...       ...       ...   \n",
       "2875 2022-11-09 12:54:00   1221.70   1222.07   1219.43   1219.73   1220.99   \n",
       "2876 2022-11-09 12:55:00   1220.74   1220.75   1218.36   1219.02   1219.20   \n",
       "2877 2022-11-09 12:56:00   1218.36   1219.57   1209.71   1209.71   1211.90   \n",
       "2878 2022-11-09 12:57:00   1210.00   1215.49   1206.03   1214.22   1209.87   \n",
       "2879 2022-11-09 12:58:00   1214.64   1216.99   1214.50   1216.11   1216.18   \n",
       "\n",
       "          volume  count pair_name      SMA25  \n",
       "0       2.701165     29  XXBTZUSD        NaN  \n",
       "1       3.178520     20  XXBTZUSD        NaN  \n",
       "2       3.887147     41  XXBTZUSD        NaN  \n",
       "3       2.041337     16  XXBTZUSD        NaN  \n",
       "4       0.889282     23  XXBTZUSD        NaN  \n",
       "...          ...    ...       ...        ...  \n",
       "2875   21.789107     33  XETHZEUR  1226.5196  \n",
       "2876   35.984311     35  XETHZEUR  1226.4800  \n",
       "2877  312.508706     88  XETHZEUR  1225.9752  \n",
       "2878  122.698311     58  XETHZEUR  1225.7148  \n",
       "2879   10.526768     19  XETHZEUR  1225.4612  \n",
       "\n",
       "[2880 rows x 10 columns]"
      ]
     },
     "execution_count": 78,
     "metadata": {},
     "output_type": "execute_result"
    }
   ],
   "source": [
    "df"
   ]
  },
  {
   "cell_type": "code",
   "execution_count": null,
   "metadata": {},
   "outputs": [],
   "source": []
  }
 ],
 "metadata": {
  "kernelspec": {
   "display_name": "Python 3.9.12 ('.env': venv)",
   "language": "python",
   "name": "python3"
  },
  "language_info": {
   "codemirror_mode": {
    "name": "ipython",
    "version": 3
   },
   "file_extension": ".py",
   "mimetype": "text/x-python",
   "name": "python",
   "nbconvert_exporter": "python",
   "pygments_lexer": "ipython3",
   "version": "3.9.12"
  },
  "orig_nbformat": 4,
  "vscode": {
   "interpreter": {
    "hash": "ffb7465281058a9843b9a6da2cfeb80ce21f32f8179a06bc873f6b457e4dc3c3"
   }
  }
 },
 "nbformat": 4,
 "nbformat_minor": 2
}
